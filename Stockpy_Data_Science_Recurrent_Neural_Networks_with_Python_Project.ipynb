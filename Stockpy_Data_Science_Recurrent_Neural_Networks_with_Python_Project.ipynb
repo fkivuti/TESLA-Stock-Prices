{
  "nbformat": 4,
  "nbformat_minor": 0,
  "metadata": {
    "colab": {
      "name": "Stockpy Data Science: Recurrent Neural Networks with Python - Project",
      "provenance": [],
      "collapsed_sections": [
        "XecOwPNorl2W",
        "J4wfHZwQrs-t",
        "a9BPYqunry97",
        "7KMRBJ7zr9HD",
        "i5BnrlDxU5uG"
      ],
      "include_colab_link": true
    },
    "kernelspec": {
      "name": "python3",
      "display_name": "Python 3"
    },
    "accelerator": "GPU"
  },
  "cells": [
    {
      "cell_type": "markdown",
      "metadata": {
        "id": "view-in-github",
        "colab_type": "text"
      },
      "source": [
        "<a href=\"https://colab.research.google.com/github/fkivuti/TESLA-Stock-Prices/blob/main/Stockpy_Data_Science_Recurrent_Neural_Networks_with_Python_Project.ipynb\" target=\"_parent\"><img src=\"https://colab.research.google.com/assets/colab-badge.svg\" alt=\"Open In Colab\"/></a>"
      ]
    },
    {
      "cell_type": "markdown",
      "metadata": {
        "id": "ymYoNMngEbN1"
      },
      "source": [
        "# <font color='#2F4F4F'>AfterWork Data Science: Recurrent Neural Networks with Python - Project</font>"
      ]
    },
    {
      "cell_type": "markdown",
      "metadata": {
        "id": "kLG2VTrnTvYL"
      },
      "source": [
        "## <font color='#2F4F4F'>Step 1. Business Understanding </font>"
      ]
    },
    {
      "cell_type": "markdown",
      "metadata": {
        "id": "XecOwPNorl2W"
      },
      "source": [
        "### a) Specifying the Research Question\n",
        "\n",
        "Build a recurrent neural networks model that will be used to predict Tesla stock prices in 2017 using data from 2012-2016"
      ]
    },
    {
      "cell_type": "markdown",
      "metadata": {
        "id": "J4wfHZwQrs-t"
      },
      "source": [
        "### b) Defining the Metric for Success\n",
        "\n",
        "Build a neural networks regression model with an RSME  less than 10% of the target mean."
      ]
    },
    {
      "cell_type": "markdown",
      "metadata": {
        "id": "a9BPYqunry97"
      },
      "source": [
        "### c) Understanding the Context \n",
        "\n",
        "Stockpy is an innovative fintech enabling financial prosperity for the entire population. It is a venture funded startup based in Palo Alto bringing world-class financial experiences to a continually growing customer base. As Stockpy enters an expansion phase for innovative fintech product offerings, it aims to enhance the enormous value in data processing and analysis for continuous growth and success.\n",
        "\n",
        "As a Finance Data Scientist for Stockpy, you provide leadership to turn cutting-edge technology into actionable insights; unlocking the power of data that provides value to business decisions and customer service enhancements."
      ]
    },
    {
      "cell_type": "markdown",
      "metadata": {
        "id": "7KMRBJ7zr9HD"
      },
      "source": [
        "### d) Recording the Experimental Design\n",
        "\n",
        "* Business Understanding\n",
        "* Data Exploration\n",
        "* Data Preparation\n",
        "* Data Modeling and Evaluation\n",
        "* Summary of Findings and Recommendation\n",
        "* Challenging the Solution\n"
      ]
    },
    {
      "cell_type": "markdown",
      "metadata": {
        "id": "n8tP5QFQEcy2"
      },
      "source": [
        "## <font color='#2F4F4F'>Step 2. Data Importation</font>"
      ]
    },
    {
      "cell_type": "code",
      "metadata": {
        "id": "QIjcefBSy7I_"
      },
      "source": [
        "# Importing standard libraries\n",
        "import pandas as pd               # library for data manipulation\n",
        "import numpy as np                # library for scientific computations\n",
        "import matplotlib.pyplot as plt   # library for data visualisation "
      ],
      "execution_count": 1,
      "outputs": []
    },
    {
      "cell_type": "code",
      "metadata": {
        "id": "BmLxWeu1DTP9",
        "colab": {
          "base_uri": "https://localhost:8080/",
          "height": 206
        },
        "outputId": "33bf35f6-f138-426d-ead0-af68b15967bb"
      },
      "source": [
        "# Importing our dataset\n",
        "# ---\n",
        "train_df = pd.read_csv('https://bit.ly/38dSbSb')\n",
        "train_df.head()"
      ],
      "execution_count": 2,
      "outputs": [
        {
          "output_type": "execute_result",
          "data": {
            "text/html": [
              "\n",
              "  <div id=\"df-07e885b4-56ee-4ca7-9c90-2e5734b7de49\">\n",
              "    <div class=\"colab-df-container\">\n",
              "      <div>\n",
              "<style scoped>\n",
              "    .dataframe tbody tr th:only-of-type {\n",
              "        vertical-align: middle;\n",
              "    }\n",
              "\n",
              "    .dataframe tbody tr th {\n",
              "        vertical-align: top;\n",
              "    }\n",
              "\n",
              "    .dataframe thead th {\n",
              "        text-align: right;\n",
              "    }\n",
              "</style>\n",
              "<table border=\"1\" class=\"dataframe\">\n",
              "  <thead>\n",
              "    <tr style=\"text-align: right;\">\n",
              "      <th></th>\n",
              "      <th>Date</th>\n",
              "      <th>Open</th>\n",
              "      <th>High</th>\n",
              "      <th>Low</th>\n",
              "      <th>Close</th>\n",
              "      <th>Adj Close</th>\n",
              "      <th>Volume</th>\n",
              "    </tr>\n",
              "  </thead>\n",
              "  <tbody>\n",
              "    <tr>\n",
              "      <th>0</th>\n",
              "      <td>2012-01-03</td>\n",
              "      <td>5.788</td>\n",
              "      <td>5.900</td>\n",
              "      <td>5.530</td>\n",
              "      <td>5.616</td>\n",
              "      <td>5.616</td>\n",
              "      <td>4640500</td>\n",
              "    </tr>\n",
              "    <tr>\n",
              "      <th>1</th>\n",
              "      <td>2012-01-04</td>\n",
              "      <td>5.642</td>\n",
              "      <td>5.734</td>\n",
              "      <td>5.500</td>\n",
              "      <td>5.542</td>\n",
              "      <td>5.542</td>\n",
              "      <td>3150500</td>\n",
              "    </tr>\n",
              "    <tr>\n",
              "      <th>2</th>\n",
              "      <td>2012-01-05</td>\n",
              "      <td>5.552</td>\n",
              "      <td>5.586</td>\n",
              "      <td>5.370</td>\n",
              "      <td>5.424</td>\n",
              "      <td>5.424</td>\n",
              "      <td>5027500</td>\n",
              "    </tr>\n",
              "    <tr>\n",
              "      <th>3</th>\n",
              "      <td>2012-01-06</td>\n",
              "      <td>5.440</td>\n",
              "      <td>5.558</td>\n",
              "      <td>5.282</td>\n",
              "      <td>5.382</td>\n",
              "      <td>5.382</td>\n",
              "      <td>4931500</td>\n",
              "    </tr>\n",
              "    <tr>\n",
              "      <th>4</th>\n",
              "      <td>2012-01-09</td>\n",
              "      <td>5.400</td>\n",
              "      <td>5.498</td>\n",
              "      <td>5.224</td>\n",
              "      <td>5.450</td>\n",
              "      <td>5.450</td>\n",
              "      <td>4485000</td>\n",
              "    </tr>\n",
              "  </tbody>\n",
              "</table>\n",
              "</div>\n",
              "      <button class=\"colab-df-convert\" onclick=\"convertToInteractive('df-07e885b4-56ee-4ca7-9c90-2e5734b7de49')\"\n",
              "              title=\"Convert this dataframe to an interactive table.\"\n",
              "              style=\"display:none;\">\n",
              "        \n",
              "  <svg xmlns=\"http://www.w3.org/2000/svg\" height=\"24px\"viewBox=\"0 0 24 24\"\n",
              "       width=\"24px\">\n",
              "    <path d=\"M0 0h24v24H0V0z\" fill=\"none\"/>\n",
              "    <path d=\"M18.56 5.44l.94 2.06.94-2.06 2.06-.94-2.06-.94-.94-2.06-.94 2.06-2.06.94zm-11 1L8.5 8.5l.94-2.06 2.06-.94-2.06-.94L8.5 2.5l-.94 2.06-2.06.94zm10 10l.94 2.06.94-2.06 2.06-.94-2.06-.94-.94-2.06-.94 2.06-2.06.94z\"/><path d=\"M17.41 7.96l-1.37-1.37c-.4-.4-.92-.59-1.43-.59-.52 0-1.04.2-1.43.59L10.3 9.45l-7.72 7.72c-.78.78-.78 2.05 0 2.83L4 21.41c.39.39.9.59 1.41.59.51 0 1.02-.2 1.41-.59l7.78-7.78 2.81-2.81c.8-.78.8-2.07 0-2.86zM5.41 20L4 18.59l7.72-7.72 1.47 1.35L5.41 20z\"/>\n",
              "  </svg>\n",
              "      </button>\n",
              "      \n",
              "  <style>\n",
              "    .colab-df-container {\n",
              "      display:flex;\n",
              "      flex-wrap:wrap;\n",
              "      gap: 12px;\n",
              "    }\n",
              "\n",
              "    .colab-df-convert {\n",
              "      background-color: #E8F0FE;\n",
              "      border: none;\n",
              "      border-radius: 50%;\n",
              "      cursor: pointer;\n",
              "      display: none;\n",
              "      fill: #1967D2;\n",
              "      height: 32px;\n",
              "      padding: 0 0 0 0;\n",
              "      width: 32px;\n",
              "    }\n",
              "\n",
              "    .colab-df-convert:hover {\n",
              "      background-color: #E2EBFA;\n",
              "      box-shadow: 0px 1px 2px rgba(60, 64, 67, 0.3), 0px 1px 3px 1px rgba(60, 64, 67, 0.15);\n",
              "      fill: #174EA6;\n",
              "    }\n",
              "\n",
              "    [theme=dark] .colab-df-convert {\n",
              "      background-color: #3B4455;\n",
              "      fill: #D2E3FC;\n",
              "    }\n",
              "\n",
              "    [theme=dark] .colab-df-convert:hover {\n",
              "      background-color: #434B5C;\n",
              "      box-shadow: 0px 1px 3px 1px rgba(0, 0, 0, 0.15);\n",
              "      filter: drop-shadow(0px 1px 2px rgba(0, 0, 0, 0.3));\n",
              "      fill: #FFFFFF;\n",
              "    }\n",
              "  </style>\n",
              "\n",
              "      <script>\n",
              "        const buttonEl =\n",
              "          document.querySelector('#df-07e885b4-56ee-4ca7-9c90-2e5734b7de49 button.colab-df-convert');\n",
              "        buttonEl.style.display =\n",
              "          google.colab.kernel.accessAllowed ? 'block' : 'none';\n",
              "\n",
              "        async function convertToInteractive(key) {\n",
              "          const element = document.querySelector('#df-07e885b4-56ee-4ca7-9c90-2e5734b7de49');\n",
              "          const dataTable =\n",
              "            await google.colab.kernel.invokeFunction('convertToInteractive',\n",
              "                                                     [key], {});\n",
              "          if (!dataTable) return;\n",
              "\n",
              "          const docLinkHtml = 'Like what you see? Visit the ' +\n",
              "            '<a target=\"_blank\" href=https://colab.research.google.com/notebooks/data_table.ipynb>data table notebook</a>'\n",
              "            + ' to learn more about interactive tables.';\n",
              "          element.innerHTML = '';\n",
              "          dataTable['output_type'] = 'display_data';\n",
              "          await google.colab.output.renderOutput(dataTable, element);\n",
              "          const docLink = document.createElement('div');\n",
              "          docLink.innerHTML = docLinkHtml;\n",
              "          element.appendChild(docLink);\n",
              "        }\n",
              "      </script>\n",
              "    </div>\n",
              "  </div>\n",
              "  "
            ],
            "text/plain": [
              "         Date   Open   High    Low  Close  Adj Close   Volume\n",
              "0  2012-01-03  5.788  5.900  5.530  5.616      5.616  4640500\n",
              "1  2012-01-04  5.642  5.734  5.500  5.542      5.542  3150500\n",
              "2  2012-01-05  5.552  5.586  5.370  5.424      5.424  5027500\n",
              "3  2012-01-06  5.440  5.558  5.282  5.382      5.382  4931500\n",
              "4  2012-01-09  5.400  5.498  5.224  5.450      5.450  4485000"
            ]
          },
          "metadata": {},
          "execution_count": 2
        }
      ]
    },
    {
      "cell_type": "markdown",
      "metadata": {
        "id": "yPaOYgFMEemO"
      },
      "source": [
        "## <font color='#2F4F4F'>Step 3. Data Exploration</font>"
      ]
    },
    {
      "cell_type": "code",
      "metadata": {
        "id": "S2HpkzRPJGVn",
        "colab": {
          "base_uri": "https://localhost:8080/",
          "height": 362
        },
        "outputId": "b1449381-6c33-4d56-f903-940c974f3b35"
      },
      "source": [
        "# Sample dataset\n",
        "# ---\n",
        "train_df.sample(10)"
      ],
      "execution_count": 3,
      "outputs": [
        {
          "output_type": "execute_result",
          "data": {
            "text/html": [
              "\n",
              "  <div id=\"df-218b2078-fca6-4782-8234-a5ab70124e30\">\n",
              "    <div class=\"colab-df-container\">\n",
              "      <div>\n",
              "<style scoped>\n",
              "    .dataframe tbody tr th:only-of-type {\n",
              "        vertical-align: middle;\n",
              "    }\n",
              "\n",
              "    .dataframe tbody tr th {\n",
              "        vertical-align: top;\n",
              "    }\n",
              "\n",
              "    .dataframe thead th {\n",
              "        text-align: right;\n",
              "    }\n",
              "</style>\n",
              "<table border=\"1\" class=\"dataframe\">\n",
              "  <thead>\n",
              "    <tr style=\"text-align: right;\">\n",
              "      <th></th>\n",
              "      <th>Date</th>\n",
              "      <th>Open</th>\n",
              "      <th>High</th>\n",
              "      <th>Low</th>\n",
              "      <th>Close</th>\n",
              "      <th>Adj Close</th>\n",
              "      <th>Volume</th>\n",
              "    </tr>\n",
              "  </thead>\n",
              "  <tbody>\n",
              "    <tr>\n",
              "      <th>719</th>\n",
              "      <td>2014-11-11</td>\n",
              "      <td>48.509998</td>\n",
              "      <td>50.363998</td>\n",
              "      <td>48.400002</td>\n",
              "      <td>50.216000</td>\n",
              "      <td>50.216000</td>\n",
              "      <td>39744000</td>\n",
              "    </tr>\n",
              "    <tr>\n",
              "      <th>787</th>\n",
              "      <td>2015-02-20</td>\n",
              "      <td>42.155998</td>\n",
              "      <td>43.520000</td>\n",
              "      <td>41.962002</td>\n",
              "      <td>43.422001</td>\n",
              "      <td>43.422001</td>\n",
              "      <td>29910500</td>\n",
              "    </tr>\n",
              "    <tr>\n",
              "      <th>905</th>\n",
              "      <td>2015-08-10</td>\n",
              "      <td>47.630001</td>\n",
              "      <td>48.594002</td>\n",
              "      <td>47.209999</td>\n",
              "      <td>48.228001</td>\n",
              "      <td>48.228001</td>\n",
              "      <td>20929500</td>\n",
              "    </tr>\n",
              "    <tr>\n",
              "      <th>1207</th>\n",
              "      <td>2016-10-19</td>\n",
              "      <td>39.948002</td>\n",
              "      <td>41.332001</td>\n",
              "      <td>39.612000</td>\n",
              "      <td>40.712002</td>\n",
              "      <td>40.712002</td>\n",
              "      <td>34956000</td>\n",
              "    </tr>\n",
              "    <tr>\n",
              "      <th>345</th>\n",
              "      <td>2013-05-20</td>\n",
              "      <td>18.224001</td>\n",
              "      <td>18.500000</td>\n",
              "      <td>17.726000</td>\n",
              "      <td>17.988001</td>\n",
              "      <td>17.988001</td>\n",
              "      <td>41742000</td>\n",
              "    </tr>\n",
              "    <tr>\n",
              "      <th>597</th>\n",
              "      <td>2014-05-20</td>\n",
              "      <td>39.388000</td>\n",
              "      <td>39.866001</td>\n",
              "      <td>38.613998</td>\n",
              "      <td>39.060001</td>\n",
              "      <td>39.060001</td>\n",
              "      <td>27730500</td>\n",
              "    </tr>\n",
              "    <tr>\n",
              "      <th>520</th>\n",
              "      <td>2014-01-29</td>\n",
              "      <td>35.060001</td>\n",
              "      <td>35.818001</td>\n",
              "      <td>34.625999</td>\n",
              "      <td>35.046001</td>\n",
              "      <td>35.046001</td>\n",
              "      <td>29677500</td>\n",
              "    </tr>\n",
              "    <tr>\n",
              "      <th>750</th>\n",
              "      <td>2014-12-26</td>\n",
              "      <td>44.301998</td>\n",
              "      <td>45.700001</td>\n",
              "      <td>44.299999</td>\n",
              "      <td>45.563999</td>\n",
              "      <td>45.563999</td>\n",
              "      <td>16635000</td>\n",
              "    </tr>\n",
              "    <tr>\n",
              "      <th>169</th>\n",
              "      <td>2012-09-04</td>\n",
              "      <td>5.704000</td>\n",
              "      <td>5.798000</td>\n",
              "      <td>5.580000</td>\n",
              "      <td>5.628000</td>\n",
              "      <td>5.628000</td>\n",
              "      <td>3762500</td>\n",
              "    </tr>\n",
              "    <tr>\n",
              "      <th>1226</th>\n",
              "      <td>2016-11-15</td>\n",
              "      <td>36.556000</td>\n",
              "      <td>37.285999</td>\n",
              "      <td>36.410000</td>\n",
              "      <td>36.754002</td>\n",
              "      <td>36.754002</td>\n",
              "      <td>19510000</td>\n",
              "    </tr>\n",
              "  </tbody>\n",
              "</table>\n",
              "</div>\n",
              "      <button class=\"colab-df-convert\" onclick=\"convertToInteractive('df-218b2078-fca6-4782-8234-a5ab70124e30')\"\n",
              "              title=\"Convert this dataframe to an interactive table.\"\n",
              "              style=\"display:none;\">\n",
              "        \n",
              "  <svg xmlns=\"http://www.w3.org/2000/svg\" height=\"24px\"viewBox=\"0 0 24 24\"\n",
              "       width=\"24px\">\n",
              "    <path d=\"M0 0h24v24H0V0z\" fill=\"none\"/>\n",
              "    <path d=\"M18.56 5.44l.94 2.06.94-2.06 2.06-.94-2.06-.94-.94-2.06-.94 2.06-2.06.94zm-11 1L8.5 8.5l.94-2.06 2.06-.94-2.06-.94L8.5 2.5l-.94 2.06-2.06.94zm10 10l.94 2.06.94-2.06 2.06-.94-2.06-.94-.94-2.06-.94 2.06-2.06.94z\"/><path d=\"M17.41 7.96l-1.37-1.37c-.4-.4-.92-.59-1.43-.59-.52 0-1.04.2-1.43.59L10.3 9.45l-7.72 7.72c-.78.78-.78 2.05 0 2.83L4 21.41c.39.39.9.59 1.41.59.51 0 1.02-.2 1.41-.59l7.78-7.78 2.81-2.81c.8-.78.8-2.07 0-2.86zM5.41 20L4 18.59l7.72-7.72 1.47 1.35L5.41 20z\"/>\n",
              "  </svg>\n",
              "      </button>\n",
              "      \n",
              "  <style>\n",
              "    .colab-df-container {\n",
              "      display:flex;\n",
              "      flex-wrap:wrap;\n",
              "      gap: 12px;\n",
              "    }\n",
              "\n",
              "    .colab-df-convert {\n",
              "      background-color: #E8F0FE;\n",
              "      border: none;\n",
              "      border-radius: 50%;\n",
              "      cursor: pointer;\n",
              "      display: none;\n",
              "      fill: #1967D2;\n",
              "      height: 32px;\n",
              "      padding: 0 0 0 0;\n",
              "      width: 32px;\n",
              "    }\n",
              "\n",
              "    .colab-df-convert:hover {\n",
              "      background-color: #E2EBFA;\n",
              "      box-shadow: 0px 1px 2px rgba(60, 64, 67, 0.3), 0px 1px 3px 1px rgba(60, 64, 67, 0.15);\n",
              "      fill: #174EA6;\n",
              "    }\n",
              "\n",
              "    [theme=dark] .colab-df-convert {\n",
              "      background-color: #3B4455;\n",
              "      fill: #D2E3FC;\n",
              "    }\n",
              "\n",
              "    [theme=dark] .colab-df-convert:hover {\n",
              "      background-color: #434B5C;\n",
              "      box-shadow: 0px 1px 3px 1px rgba(0, 0, 0, 0.15);\n",
              "      filter: drop-shadow(0px 1px 2px rgba(0, 0, 0, 0.3));\n",
              "      fill: #FFFFFF;\n",
              "    }\n",
              "  </style>\n",
              "\n",
              "      <script>\n",
              "        const buttonEl =\n",
              "          document.querySelector('#df-218b2078-fca6-4782-8234-a5ab70124e30 button.colab-df-convert');\n",
              "        buttonEl.style.display =\n",
              "          google.colab.kernel.accessAllowed ? 'block' : 'none';\n",
              "\n",
              "        async function convertToInteractive(key) {\n",
              "          const element = document.querySelector('#df-218b2078-fca6-4782-8234-a5ab70124e30');\n",
              "          const dataTable =\n",
              "            await google.colab.kernel.invokeFunction('convertToInteractive',\n",
              "                                                     [key], {});\n",
              "          if (!dataTable) return;\n",
              "\n",
              "          const docLinkHtml = 'Like what you see? Visit the ' +\n",
              "            '<a target=\"_blank\" href=https://colab.research.google.com/notebooks/data_table.ipynb>data table notebook</a>'\n",
              "            + ' to learn more about interactive tables.';\n",
              "          element.innerHTML = '';\n",
              "          dataTable['output_type'] = 'display_data';\n",
              "          await google.colab.output.renderOutput(dataTable, element);\n",
              "          const docLink = document.createElement('div');\n",
              "          docLink.innerHTML = docLinkHtml;\n",
              "          element.appendChild(docLink);\n",
              "        }\n",
              "      </script>\n",
              "    </div>\n",
              "  </div>\n",
              "  "
            ],
            "text/plain": [
              "            Date       Open       High        Low      Close  Adj Close  \\\n",
              "719   2014-11-11  48.509998  50.363998  48.400002  50.216000  50.216000   \n",
              "787   2015-02-20  42.155998  43.520000  41.962002  43.422001  43.422001   \n",
              "905   2015-08-10  47.630001  48.594002  47.209999  48.228001  48.228001   \n",
              "1207  2016-10-19  39.948002  41.332001  39.612000  40.712002  40.712002   \n",
              "345   2013-05-20  18.224001  18.500000  17.726000  17.988001  17.988001   \n",
              "597   2014-05-20  39.388000  39.866001  38.613998  39.060001  39.060001   \n",
              "520   2014-01-29  35.060001  35.818001  34.625999  35.046001  35.046001   \n",
              "750   2014-12-26  44.301998  45.700001  44.299999  45.563999  45.563999   \n",
              "169   2012-09-04   5.704000   5.798000   5.580000   5.628000   5.628000   \n",
              "1226  2016-11-15  36.556000  37.285999  36.410000  36.754002  36.754002   \n",
              "\n",
              "        Volume  \n",
              "719   39744000  \n",
              "787   29910500  \n",
              "905   20929500  \n",
              "1207  34956000  \n",
              "345   41742000  \n",
              "597   27730500  \n",
              "520   29677500  \n",
              "750   16635000  \n",
              "169    3762500  \n",
              "1226  19510000  "
            ]
          },
          "metadata": {},
          "execution_count": 3
        }
      ]
    },
    {
      "cell_type": "code",
      "metadata": {
        "id": "iiORNaHaE5f3",
        "colab": {
          "base_uri": "https://localhost:8080/",
          "height": 300
        },
        "outputId": "d2672203-f106-4437-db86-340637b9a78d"
      },
      "source": [
        "# Statistical summary\n",
        "# ---\n",
        "train_df.describe()"
      ],
      "execution_count": 4,
      "outputs": [
        {
          "output_type": "execute_result",
          "data": {
            "text/html": [
              "\n",
              "  <div id=\"df-7f847933-aef1-4bb7-a62d-d6bf18ae0b05\">\n",
              "    <div class=\"colab-df-container\">\n",
              "      <div>\n",
              "<style scoped>\n",
              "    .dataframe tbody tr th:only-of-type {\n",
              "        vertical-align: middle;\n",
              "    }\n",
              "\n",
              "    .dataframe tbody tr th {\n",
              "        vertical-align: top;\n",
              "    }\n",
              "\n",
              "    .dataframe thead th {\n",
              "        text-align: right;\n",
              "    }\n",
              "</style>\n",
              "<table border=\"1\" class=\"dataframe\">\n",
              "  <thead>\n",
              "    <tr style=\"text-align: right;\">\n",
              "      <th></th>\n",
              "      <th>Open</th>\n",
              "      <th>High</th>\n",
              "      <th>Low</th>\n",
              "      <th>Close</th>\n",
              "      <th>Adj Close</th>\n",
              "      <th>Volume</th>\n",
              "    </tr>\n",
              "  </thead>\n",
              "  <tbody>\n",
              "    <tr>\n",
              "      <th>count</th>\n",
              "      <td>1258.000000</td>\n",
              "      <td>1258.000000</td>\n",
              "      <td>1258.000000</td>\n",
              "      <td>1258.000000</td>\n",
              "      <td>1258.000000</td>\n",
              "      <td>1.258000e+03</td>\n",
              "    </tr>\n",
              "    <tr>\n",
              "      <th>mean</th>\n",
              "      <td>31.997898</td>\n",
              "      <td>32.558671</td>\n",
              "      <td>31.403696</td>\n",
              "      <td>31.989245</td>\n",
              "      <td>31.989245</td>\n",
              "      <td>2.551310e+07</td>\n",
              "    </tr>\n",
              "    <tr>\n",
              "      <th>std</th>\n",
              "      <td>16.911515</td>\n",
              "      <td>17.148543</td>\n",
              "      <td>16.649245</td>\n",
              "      <td>16.903500</td>\n",
              "      <td>16.903500</td>\n",
              "      <td>2.259037e+07</td>\n",
              "    </tr>\n",
              "    <tr>\n",
              "      <th>min</th>\n",
              "      <td>5.324000</td>\n",
              "      <td>5.370000</td>\n",
              "      <td>4.528000</td>\n",
              "      <td>4.558000</td>\n",
              "      <td>4.558000</td>\n",
              "      <td>1.824500e+06</td>\n",
              "    </tr>\n",
              "    <tr>\n",
              "      <th>25%</th>\n",
              "      <td>8.403000</td>\n",
              "      <td>8.556000</td>\n",
              "      <td>8.197000</td>\n",
              "      <td>8.379500</td>\n",
              "      <td>8.379500</td>\n",
              "      <td>1.059400e+07</td>\n",
              "    </tr>\n",
              "    <tr>\n",
              "      <th>50%</th>\n",
              "      <td>39.411000</td>\n",
              "      <td>40.123998</td>\n",
              "      <td>38.709000</td>\n",
              "      <td>39.427000</td>\n",
              "      <td>39.427000</td>\n",
              "      <td>2.007650e+07</td>\n",
              "    </tr>\n",
              "    <tr>\n",
              "      <th>75%</th>\n",
              "      <td>45.214499</td>\n",
              "      <td>45.934999</td>\n",
              "      <td>44.303000</td>\n",
              "      <td>45.076502</td>\n",
              "      <td>45.076502</td>\n",
              "      <td>3.245150e+07</td>\n",
              "    </tr>\n",
              "    <tr>\n",
              "      <th>max</th>\n",
              "      <td>57.534000</td>\n",
              "      <td>58.284000</td>\n",
              "      <td>56.080002</td>\n",
              "      <td>57.208000</td>\n",
              "      <td>57.208000</td>\n",
              "      <td>1.858195e+08</td>\n",
              "    </tr>\n",
              "  </tbody>\n",
              "</table>\n",
              "</div>\n",
              "      <button class=\"colab-df-convert\" onclick=\"convertToInteractive('df-7f847933-aef1-4bb7-a62d-d6bf18ae0b05')\"\n",
              "              title=\"Convert this dataframe to an interactive table.\"\n",
              "              style=\"display:none;\">\n",
              "        \n",
              "  <svg xmlns=\"http://www.w3.org/2000/svg\" height=\"24px\"viewBox=\"0 0 24 24\"\n",
              "       width=\"24px\">\n",
              "    <path d=\"M0 0h24v24H0V0z\" fill=\"none\"/>\n",
              "    <path d=\"M18.56 5.44l.94 2.06.94-2.06 2.06-.94-2.06-.94-.94-2.06-.94 2.06-2.06.94zm-11 1L8.5 8.5l.94-2.06 2.06-.94-2.06-.94L8.5 2.5l-.94 2.06-2.06.94zm10 10l.94 2.06.94-2.06 2.06-.94-2.06-.94-.94-2.06-.94 2.06-2.06.94z\"/><path d=\"M17.41 7.96l-1.37-1.37c-.4-.4-.92-.59-1.43-.59-.52 0-1.04.2-1.43.59L10.3 9.45l-7.72 7.72c-.78.78-.78 2.05 0 2.83L4 21.41c.39.39.9.59 1.41.59.51 0 1.02-.2 1.41-.59l7.78-7.78 2.81-2.81c.8-.78.8-2.07 0-2.86zM5.41 20L4 18.59l7.72-7.72 1.47 1.35L5.41 20z\"/>\n",
              "  </svg>\n",
              "      </button>\n",
              "      \n",
              "  <style>\n",
              "    .colab-df-container {\n",
              "      display:flex;\n",
              "      flex-wrap:wrap;\n",
              "      gap: 12px;\n",
              "    }\n",
              "\n",
              "    .colab-df-convert {\n",
              "      background-color: #E8F0FE;\n",
              "      border: none;\n",
              "      border-radius: 50%;\n",
              "      cursor: pointer;\n",
              "      display: none;\n",
              "      fill: #1967D2;\n",
              "      height: 32px;\n",
              "      padding: 0 0 0 0;\n",
              "      width: 32px;\n",
              "    }\n",
              "\n",
              "    .colab-df-convert:hover {\n",
              "      background-color: #E2EBFA;\n",
              "      box-shadow: 0px 1px 2px rgba(60, 64, 67, 0.3), 0px 1px 3px 1px rgba(60, 64, 67, 0.15);\n",
              "      fill: #174EA6;\n",
              "    }\n",
              "\n",
              "    [theme=dark] .colab-df-convert {\n",
              "      background-color: #3B4455;\n",
              "      fill: #D2E3FC;\n",
              "    }\n",
              "\n",
              "    [theme=dark] .colab-df-convert:hover {\n",
              "      background-color: #434B5C;\n",
              "      box-shadow: 0px 1px 3px 1px rgba(0, 0, 0, 0.15);\n",
              "      filter: drop-shadow(0px 1px 2px rgba(0, 0, 0, 0.3));\n",
              "      fill: #FFFFFF;\n",
              "    }\n",
              "  </style>\n",
              "\n",
              "      <script>\n",
              "        const buttonEl =\n",
              "          document.querySelector('#df-7f847933-aef1-4bb7-a62d-d6bf18ae0b05 button.colab-df-convert');\n",
              "        buttonEl.style.display =\n",
              "          google.colab.kernel.accessAllowed ? 'block' : 'none';\n",
              "\n",
              "        async function convertToInteractive(key) {\n",
              "          const element = document.querySelector('#df-7f847933-aef1-4bb7-a62d-d6bf18ae0b05');\n",
              "          const dataTable =\n",
              "            await google.colab.kernel.invokeFunction('convertToInteractive',\n",
              "                                                     [key], {});\n",
              "          if (!dataTable) return;\n",
              "\n",
              "          const docLinkHtml = 'Like what you see? Visit the ' +\n",
              "            '<a target=\"_blank\" href=https://colab.research.google.com/notebooks/data_table.ipynb>data table notebook</a>'\n",
              "            + ' to learn more about interactive tables.';\n",
              "          element.innerHTML = '';\n",
              "          dataTable['output_type'] = 'display_data';\n",
              "          await google.colab.output.renderOutput(dataTable, element);\n",
              "          const docLink = document.createElement('div');\n",
              "          docLink.innerHTML = docLinkHtml;\n",
              "          element.appendChild(docLink);\n",
              "        }\n",
              "      </script>\n",
              "    </div>\n",
              "  </div>\n",
              "  "
            ],
            "text/plain": [
              "              Open         High          Low        Close    Adj Close  \\\n",
              "count  1258.000000  1258.000000  1258.000000  1258.000000  1258.000000   \n",
              "mean     31.997898    32.558671    31.403696    31.989245    31.989245   \n",
              "std      16.911515    17.148543    16.649245    16.903500    16.903500   \n",
              "min       5.324000     5.370000     4.528000     4.558000     4.558000   \n",
              "25%       8.403000     8.556000     8.197000     8.379500     8.379500   \n",
              "50%      39.411000    40.123998    38.709000    39.427000    39.427000   \n",
              "75%      45.214499    45.934999    44.303000    45.076502    45.076502   \n",
              "max      57.534000    58.284000    56.080002    57.208000    57.208000   \n",
              "\n",
              "             Volume  \n",
              "count  1.258000e+03  \n",
              "mean   2.551310e+07  \n",
              "std    2.259037e+07  \n",
              "min    1.824500e+06  \n",
              "25%    1.059400e+07  \n",
              "50%    2.007650e+07  \n",
              "75%    3.245150e+07  \n",
              "max    1.858195e+08  "
            ]
          },
          "metadata": {},
          "execution_count": 4
        }
      ]
    },
    {
      "cell_type": "markdown",
      "metadata": {
        "id": "uVLc3iMCE48d"
      },
      "source": [
        "## <font color='#2F4F4F'>Step 4. Data Preparation</font>"
      ]
    },
    {
      "cell_type": "code",
      "metadata": {
        "id": "1DD5qpc3Ivyf",
        "colab": {
          "base_uri": "https://localhost:8080/"
        },
        "outputId": "8b1925b7-852a-4cb0-fcd7-642beef78ccc"
      },
      "source": [
        "# Getting our train dataset\n",
        "# We will use the 'Open' price for prediction.\n",
        "train_set = train_df.iloc[:, 1:2].values\n",
        "print(train_set)"
      ],
      "execution_count": 5,
      "outputs": [
        {
          "output_type": "stream",
          "name": "stdout",
          "text": [
            "[[ 5.788   ]\n",
            " [ 5.642   ]\n",
            " [ 5.552   ]\n",
            " ...\n",
            " [44.306   ]\n",
            " [43.712002]\n",
            " [43.259998]]\n"
          ]
        }
      ]
    },
    {
      "cell_type": "code",
      "source": [
        "train_set.shape"
      ],
      "metadata": {
        "colab": {
          "base_uri": "https://localhost:8080/"
        },
        "id": "fJTgNuOf_ipC",
        "outputId": "71ea2e3c-f537-47d3-c085-9cce2714e886"
      },
      "execution_count": 6,
      "outputs": [
        {
          "output_type": "execute_result",
          "data": {
            "text/plain": [
              "(1258, 1)"
            ]
          },
          "metadata": {},
          "execution_count": 6
        }
      ]
    },
    {
      "cell_type": "code",
      "metadata": {
        "id": "fBavdYmaDaQj",
        "colab": {
          "base_uri": "https://localhost:8080/"
        },
        "outputId": "b4b2f4df-aa19-4f54-ffbc-ad57354ec137"
      },
      "source": [
        "# Performing Feature scaling because the values are not in the same range\n",
        "# ---\n",
        "from sklearn.preprocessing import MinMaxScaler\n",
        "sc =  MinMaxScaler(feature_range = (0, 1))\n",
        "train_set_scaled = sc.fit_transform(train_set)\n",
        "print(train_set_scaled)"
      ],
      "execution_count": 7,
      "outputs": [
        {
          "output_type": "stream",
          "name": "stdout",
          "text": [
            "[[0.00888719]\n",
            " [0.00609079]\n",
            " [0.00436698]\n",
            " ...\n",
            " [0.74663857]\n",
            " [0.73526148]\n",
            " [0.72660406]]\n"
          ]
        }
      ]
    },
    {
      "cell_type": "code",
      "metadata": {
        "id": "Hdkim4BCDgdi"
      },
      "source": [
        "# Creating a dataset with 60 timesteps and 1 output\n",
        "# ---\n",
        "X_train = []\n",
        "y_train = []\n",
        "for i in range(60, 1258):\n",
        "    X_train.append(train_set_scaled[i-60:i, 0])\n",
        "    # print(a)\n",
        "    y_train.append(train_set_scaled[i, 0])\n",
        "    # print(b)\n",
        "X_train, y_train = np.array(X_train), np.array(y_train)"
      ],
      "execution_count": 8,
      "outputs": []
    },
    {
      "cell_type": "code",
      "source": [
        "train_set_scaled[0:60, 0]"
      ],
      "metadata": {
        "colab": {
          "base_uri": "https://localhost:8080/"
        },
        "id": "Txhu4IxbRerm",
        "outputId": "bc009f2a-3745-4608-dd3c-9977f35a31f5"
      },
      "execution_count": 9,
      "outputs": [
        {
          "output_type": "execute_result",
          "data": {
            "text/plain": [
              "array([8.88718636e-03, 6.09078721e-03, 4.36697951e-03, 2.22179659e-03,\n",
              "       1.45565984e-03, 3.14116070e-03, 3.83068378e-03, 7.12507183e-03,\n",
              "       6.81861712e-03, 0.00000000e+00, 2.68147864e-04, 2.18348975e-03,\n",
              "       1.07259146e-03, 7.27829918e-04, 3.83068378e-05, 2.48994446e-03,\n",
              "       5.55449148e-03, 7.20168550e-03, 1.09940624e-02, 1.25646428e-02,\n",
              "       9.38517525e-03, 1.18751197e-02, 1.45182915e-02, 1.71614633e-02,\n",
              "       1.98429420e-02, 1.90768052e-02, 2.06090787e-02, 2.16050565e-02,\n",
              "       1.88852710e-02, 1.96131009e-02, 2.48228309e-02, 2.63551044e-02,\n",
              "       2.82321394e-02, 3.16031412e-02, 3.01857882e-02, 2.82321394e-02,\n",
              "       2.91515035e-02, 2.60103428e-02, 2.68914001e-02, 2.75426164e-02,\n",
              "       2.63934112e-02, 2.98027198e-02, 2.96111856e-02, 2.53974334e-02,\n",
              "       2.48994446e-02, 2.48611377e-02, 2.52058993e-02, 3.09136181e-02,\n",
              "       3.78854626e-02, 3.59318138e-02, 3.31737215e-02, 3.17180617e-02,\n",
              "       3.30971078e-02, 3.20245164e-02, 3.18712890e-02, 3.19862095e-02,\n",
              "       2.92664241e-02, 3.43612335e-02, 4.03754070e-02, 4.27504310e-02])"
            ]
          },
          "metadata": {},
          "execution_count": 9
        }
      ]
    },
    {
      "cell_type": "code",
      "metadata": {
        "id": "jcSQM2x8DlhI"
      },
      "source": [
        "# Reshaping \n",
        "# ---\n",
        "X_train = np.reshape(X_train, (X_train.shape[0], X_train.shape[1], 1))"
      ],
      "execution_count": 10,
      "outputs": []
    },
    {
      "cell_type": "markdown",
      "metadata": {
        "id": "D4Qz7YGGHbee"
      },
      "source": [
        "##  <font color='#2F4F4F'>Step 5. Data Modeling</font>"
      ]
    },
    {
      "cell_type": "code",
      "metadata": {
        "id": "xSKGzmRNDtpV"
      },
      "source": [
        "# Building the RNN\n",
        "# Importing the Keras libraries and packages\n",
        "# ---\n",
        "#\n",
        "from keras.models import Sequential\n",
        "from keras.layers import Dense\n",
        "from keras.layers import LSTM\n",
        "from keras.layers import Dropout"
      ],
      "execution_count": 11,
      "outputs": []
    },
    {
      "cell_type": "code",
      "metadata": {
        "id": "l-oXw1R5Dy7T"
      },
      "source": [
        "# Initialising the RNN\n",
        "# ---\n",
        "regressor = Sequential()\n",
        "\n",
        "# Adding 4 LSTM layers and some Dropout regularisation, 30 Neurons per layer\n",
        "\n",
        "regressor.add(LSTM(units = 30, return_sequences = True, input_shape = (X_train.shape[1], 1)))\n",
        "regressor.add(Dropout(0.2))\n",
        "\n",
        "# Adding a second LSTM layer and some Dropout regularisation\n",
        "regressor.add(LSTM(units = 30, return_sequences = True))\n",
        "regressor.add(Dropout(0.2))\n",
        "\n",
        "# Adding a third LSTM layer and some Dropout regularisation\n",
        "regressor.add(LSTM(units = 30, return_sequences = True))\n",
        "regressor.add(Dropout(0.2))\n",
        "\n",
        "# Adding fourth LSTM layer and some Dropout regularisation\n",
        "regressor.add(LSTM(units = 30, return_sequences = False))\n",
        "regressor.add(Dropout(0.2))\n",
        "\n",
        "# Adding the output layer\n",
        "# 'output dimension' is 1 since we are predicting 1 price each time.\n",
        "\n",
        "regressor.add(Dense(units = 1))"
      ],
      "execution_count": 34,
      "outputs": []
    },
    {
      "cell_type": "code",
      "metadata": {
        "id": "0nsqxXskD3IX"
      },
      "source": [
        "# Compile the RNN \n",
        "# ---\n",
        "regressor.compile(optimizer = 'adam', loss = 'mean_squared_error')"
      ],
      "execution_count": 35,
      "outputs": []
    },
    {
      "cell_type": "code",
      "metadata": {
        "id": "obcll9uYD6od",
        "colab": {
          "base_uri": "https://localhost:8080/"
        },
        "outputId": "dfeda1a0-79a9-4129-9e80-7d47d448cf75"
      },
      "source": [
        "# Fitting the RNN to the training set\n",
        "regressor.fit(X_train, y_train, epochs = 100, batch_size = 32)"
      ],
      "execution_count": 36,
      "outputs": [
        {
          "output_type": "stream",
          "name": "stdout",
          "text": [
            "Epoch 1/100\n",
            "38/38 [==============================] - 9s 56ms/step - loss: 0.0637\n",
            "Epoch 2/100\n",
            "38/38 [==============================] - 2s 56ms/step - loss: 0.0118\n",
            "Epoch 3/100\n",
            "38/38 [==============================] - 2s 56ms/step - loss: 0.0097\n",
            "Epoch 4/100\n",
            "38/38 [==============================] - 2s 56ms/step - loss: 0.0092\n",
            "Epoch 5/100\n",
            "38/38 [==============================] - 2s 56ms/step - loss: 0.0084\n",
            "Epoch 6/100\n",
            "38/38 [==============================] - 2s 57ms/step - loss: 0.0092\n",
            "Epoch 7/100\n",
            "38/38 [==============================] - 2s 57ms/step - loss: 0.0099\n",
            "Epoch 8/100\n",
            "38/38 [==============================] - 2s 56ms/step - loss: 0.0077\n",
            "Epoch 9/100\n",
            "38/38 [==============================] - 2s 56ms/step - loss: 0.0075\n",
            "Epoch 10/100\n",
            "38/38 [==============================] - 2s 56ms/step - loss: 0.0087\n",
            "Epoch 11/100\n",
            "38/38 [==============================] - 2s 56ms/step - loss: 0.0075\n",
            "Epoch 12/100\n",
            "38/38 [==============================] - 2s 56ms/step - loss: 0.0066\n",
            "Epoch 13/100\n",
            "38/38 [==============================] - 2s 56ms/step - loss: 0.0069\n",
            "Epoch 14/100\n",
            "38/38 [==============================] - 2s 57ms/step - loss: 0.0066\n",
            "Epoch 15/100\n",
            "38/38 [==============================] - 2s 56ms/step - loss: 0.0068\n",
            "Epoch 16/100\n",
            "38/38 [==============================] - 2s 56ms/step - loss: 0.0063\n",
            "Epoch 17/100\n",
            "38/38 [==============================] - 2s 57ms/step - loss: 0.0067\n",
            "Epoch 18/100\n",
            "38/38 [==============================] - 2s 56ms/step - loss: 0.0068\n",
            "Epoch 19/100\n",
            "38/38 [==============================] - 2s 56ms/step - loss: 0.0063\n",
            "Epoch 20/100\n",
            "38/38 [==============================] - 2s 57ms/step - loss: 0.0062\n",
            "Epoch 21/100\n",
            "38/38 [==============================] - 2s 56ms/step - loss: 0.0059\n",
            "Epoch 22/100\n",
            "38/38 [==============================] - 2s 56ms/step - loss: 0.0055\n",
            "Epoch 23/100\n",
            "38/38 [==============================] - 2s 57ms/step - loss: 0.0055\n",
            "Epoch 24/100\n",
            "38/38 [==============================] - 2s 56ms/step - loss: 0.0054\n",
            "Epoch 25/100\n",
            "38/38 [==============================] - 2s 57ms/step - loss: 0.0049\n",
            "Epoch 26/100\n",
            "38/38 [==============================] - 2s 56ms/step - loss: 0.0063\n",
            "Epoch 27/100\n",
            "38/38 [==============================] - 2s 57ms/step - loss: 0.0051\n",
            "Epoch 28/100\n",
            "38/38 [==============================] - 2s 57ms/step - loss: 0.0053\n",
            "Epoch 29/100\n",
            "38/38 [==============================] - 2s 57ms/step - loss: 0.0051\n",
            "Epoch 30/100\n",
            "38/38 [==============================] - 2s 57ms/step - loss: 0.0050\n",
            "Epoch 31/100\n",
            "38/38 [==============================] - 2s 57ms/step - loss: 0.0050\n",
            "Epoch 32/100\n",
            "38/38 [==============================] - 2s 56ms/step - loss: 0.0051\n",
            "Epoch 33/100\n",
            "38/38 [==============================] - 2s 56ms/step - loss: 0.0050\n",
            "Epoch 34/100\n",
            "38/38 [==============================] - 2s 57ms/step - loss: 0.0050\n",
            "Epoch 35/100\n",
            "38/38 [==============================] - 2s 56ms/step - loss: 0.0051\n",
            "Epoch 36/100\n",
            "38/38 [==============================] - 2s 57ms/step - loss: 0.0047\n",
            "Epoch 37/100\n",
            "38/38 [==============================] - 2s 57ms/step - loss: 0.0049\n",
            "Epoch 38/100\n",
            "38/38 [==============================] - 2s 57ms/step - loss: 0.0047\n",
            "Epoch 39/100\n",
            "38/38 [==============================] - 2s 57ms/step - loss: 0.0046\n",
            "Epoch 40/100\n",
            "38/38 [==============================] - 2s 56ms/step - loss: 0.0044\n",
            "Epoch 41/100\n",
            "38/38 [==============================] - 2s 56ms/step - loss: 0.0047\n",
            "Epoch 42/100\n",
            "38/38 [==============================] - 2s 56ms/step - loss: 0.0047\n",
            "Epoch 43/100\n",
            "38/38 [==============================] - 2s 56ms/step - loss: 0.0044\n",
            "Epoch 44/100\n",
            "38/38 [==============================] - 2s 57ms/step - loss: 0.0038\n",
            "Epoch 45/100\n",
            "38/38 [==============================] - 2s 57ms/step - loss: 0.0038\n",
            "Epoch 46/100\n",
            "38/38 [==============================] - 2s 57ms/step - loss: 0.0038\n",
            "Epoch 47/100\n",
            "38/38 [==============================] - 2s 57ms/step - loss: 0.0041\n",
            "Epoch 48/100\n",
            "38/38 [==============================] - 2s 56ms/step - loss: 0.0041\n",
            "Epoch 49/100\n",
            "38/38 [==============================] - 2s 57ms/step - loss: 0.0038\n",
            "Epoch 50/100\n",
            "38/38 [==============================] - 2s 56ms/step - loss: 0.0039\n",
            "Epoch 51/100\n",
            "38/38 [==============================] - 2s 57ms/step - loss: 0.0037\n",
            "Epoch 52/100\n",
            "38/38 [==============================] - 2s 57ms/step - loss: 0.0036\n",
            "Epoch 53/100\n",
            "38/38 [==============================] - 2s 56ms/step - loss: 0.0039\n",
            "Epoch 54/100\n",
            "38/38 [==============================] - 2s 57ms/step - loss: 0.0040\n",
            "Epoch 55/100\n",
            "38/38 [==============================] - 2s 57ms/step - loss: 0.0040\n",
            "Epoch 56/100\n",
            "38/38 [==============================] - 2s 56ms/step - loss: 0.0039\n",
            "Epoch 57/100\n",
            "38/38 [==============================] - 2s 57ms/step - loss: 0.0038\n",
            "Epoch 58/100\n",
            "38/38 [==============================] - 2s 57ms/step - loss: 0.0038\n",
            "Epoch 59/100\n",
            "38/38 [==============================] - 2s 58ms/step - loss: 0.0035\n",
            "Epoch 60/100\n",
            "38/38 [==============================] - 2s 57ms/step - loss: 0.0037\n",
            "Epoch 61/100\n",
            "38/38 [==============================] - 2s 57ms/step - loss: 0.0032\n",
            "Epoch 62/100\n",
            "38/38 [==============================] - 2s 57ms/step - loss: 0.0032\n",
            "Epoch 63/100\n",
            "38/38 [==============================] - 2s 57ms/step - loss: 0.0034\n",
            "Epoch 64/100\n",
            "38/38 [==============================] - 2s 57ms/step - loss: 0.0033\n",
            "Epoch 65/100\n",
            "38/38 [==============================] - 2s 57ms/step - loss: 0.0031\n",
            "Epoch 66/100\n",
            "38/38 [==============================] - 2s 57ms/step - loss: 0.0037\n",
            "Epoch 67/100\n",
            "38/38 [==============================] - 2s 57ms/step - loss: 0.0035\n",
            "Epoch 68/100\n",
            "38/38 [==============================] - 2s 57ms/step - loss: 0.0031\n",
            "Epoch 69/100\n",
            "38/38 [==============================] - 2s 57ms/step - loss: 0.0029\n",
            "Epoch 70/100\n",
            "38/38 [==============================] - 2s 57ms/step - loss: 0.0030\n",
            "Epoch 71/100\n",
            "38/38 [==============================] - 2s 56ms/step - loss: 0.0032\n",
            "Epoch 72/100\n",
            "38/38 [==============================] - 2s 57ms/step - loss: 0.0030\n",
            "Epoch 73/100\n",
            "38/38 [==============================] - 2s 57ms/step - loss: 0.0033\n",
            "Epoch 74/100\n",
            "38/38 [==============================] - 2s 57ms/step - loss: 0.0030\n",
            "Epoch 75/100\n",
            "38/38 [==============================] - 2s 57ms/step - loss: 0.0031\n",
            "Epoch 76/100\n",
            "38/38 [==============================] - 2s 57ms/step - loss: 0.0027\n",
            "Epoch 77/100\n",
            "38/38 [==============================] - 2s 57ms/step - loss: 0.0028\n",
            "Epoch 78/100\n",
            "38/38 [==============================] - 2s 57ms/step - loss: 0.0029\n",
            "Epoch 79/100\n",
            "38/38 [==============================] - 2s 57ms/step - loss: 0.0031\n",
            "Epoch 80/100\n",
            "38/38 [==============================] - 2s 57ms/step - loss: 0.0029\n",
            "Epoch 81/100\n",
            "38/38 [==============================] - 2s 57ms/step - loss: 0.0025\n",
            "Epoch 82/100\n",
            "38/38 [==============================] - 2s 57ms/step - loss: 0.0029\n",
            "Epoch 83/100\n",
            "38/38 [==============================] - 2s 57ms/step - loss: 0.0025\n",
            "Epoch 84/100\n",
            "38/38 [==============================] - 2s 57ms/step - loss: 0.0029\n",
            "Epoch 85/100\n",
            "38/38 [==============================] - 2s 56ms/step - loss: 0.0029\n",
            "Epoch 86/100\n",
            "38/38 [==============================] - 2s 57ms/step - loss: 0.0027\n",
            "Epoch 87/100\n",
            "38/38 [==============================] - 2s 57ms/step - loss: 0.0024\n",
            "Epoch 88/100\n",
            "38/38 [==============================] - 2s 57ms/step - loss: 0.0030\n",
            "Epoch 89/100\n",
            "38/38 [==============================] - 2s 57ms/step - loss: 0.0025\n",
            "Epoch 90/100\n",
            "38/38 [==============================] - 2s 56ms/step - loss: 0.0028\n",
            "Epoch 91/100\n",
            "38/38 [==============================] - 2s 57ms/step - loss: 0.0029\n",
            "Epoch 92/100\n",
            "38/38 [==============================] - 2s 57ms/step - loss: 0.0027\n",
            "Epoch 93/100\n",
            "38/38 [==============================] - 2s 57ms/step - loss: 0.0026\n",
            "Epoch 94/100\n",
            "38/38 [==============================] - 2s 57ms/step - loss: 0.0028\n",
            "Epoch 95/100\n",
            "38/38 [==============================] - 2s 56ms/step - loss: 0.0025\n",
            "Epoch 96/100\n",
            "38/38 [==============================] - 2s 57ms/step - loss: 0.0025\n",
            "Epoch 97/100\n",
            "38/38 [==============================] - 2s 56ms/step - loss: 0.0026\n",
            "Epoch 98/100\n",
            "38/38 [==============================] - 2s 56ms/step - loss: 0.0024\n",
            "Epoch 99/100\n",
            "38/38 [==============================] - 2s 56ms/step - loss: 0.0025\n",
            "Epoch 100/100\n",
            "38/38 [==============================] - 2s 57ms/step - loss: 0.0023\n"
          ]
        },
        {
          "output_type": "execute_result",
          "data": {
            "text/plain": [
              "<keras.callbacks.History at 0x7fa649892990>"
            ]
          },
          "metadata": {},
          "execution_count": 36
        }
      ]
    },
    {
      "cell_type": "code",
      "metadata": {
        "id": "nywLR70_w_Or",
        "colab": {
          "base_uri": "https://localhost:8080/",
          "height": 206
        },
        "outputId": "236bdfa2-6002-43a8-bf4f-3f58a7a1dbb5"
      },
      "source": [
        "# # Making predictions: Getting the predicted stock price for 2017\n",
        "test_df = pd.read_csv('https://bit.ly/3kW8E0K')\n",
        "# test_df = pd.read_csv('TSLA.csv')\n",
        "test_df.head()"
      ],
      "execution_count": 66,
      "outputs": [
        {
          "output_type": "execute_result",
          "data": {
            "text/html": [
              "\n",
              "  <div id=\"df-95ad6a76-3aeb-4502-8594-d54e0f847e8b\">\n",
              "    <div class=\"colab-df-container\">\n",
              "      <div>\n",
              "<style scoped>\n",
              "    .dataframe tbody tr th:only-of-type {\n",
              "        vertical-align: middle;\n",
              "    }\n",
              "\n",
              "    .dataframe tbody tr th {\n",
              "        vertical-align: top;\n",
              "    }\n",
              "\n",
              "    .dataframe thead th {\n",
              "        text-align: right;\n",
              "    }\n",
              "</style>\n",
              "<table border=\"1\" class=\"dataframe\">\n",
              "  <thead>\n",
              "    <tr style=\"text-align: right;\">\n",
              "      <th></th>\n",
              "      <th>Date</th>\n",
              "      <th>Open</th>\n",
              "      <th>High</th>\n",
              "      <th>Low</th>\n",
              "      <th>Close</th>\n",
              "      <th>Adj Close</th>\n",
              "      <th>Volume</th>\n",
              "    </tr>\n",
              "  </thead>\n",
              "  <tbody>\n",
              "    <tr>\n",
              "      <th>0</th>\n",
              "      <td>2020-01-06</td>\n",
              "      <td>88.094002</td>\n",
              "      <td>90.311996</td>\n",
              "      <td>88.000000</td>\n",
              "      <td>90.307999</td>\n",
              "      <td>90.307999</td>\n",
              "      <td>50665000</td>\n",
              "    </tr>\n",
              "    <tr>\n",
              "      <th>1</th>\n",
              "      <td>2020-01-07</td>\n",
              "      <td>92.279999</td>\n",
              "      <td>94.325996</td>\n",
              "      <td>90.671997</td>\n",
              "      <td>93.811996</td>\n",
              "      <td>93.811996</td>\n",
              "      <td>89410500</td>\n",
              "    </tr>\n",
              "    <tr>\n",
              "      <th>2</th>\n",
              "      <td>2020-01-08</td>\n",
              "      <td>94.739998</td>\n",
              "      <td>99.697998</td>\n",
              "      <td>93.646004</td>\n",
              "      <td>98.428001</td>\n",
              "      <td>98.428001</td>\n",
              "      <td>155721500</td>\n",
              "    </tr>\n",
              "    <tr>\n",
              "      <th>3</th>\n",
              "      <td>2020-01-09</td>\n",
              "      <td>99.419998</td>\n",
              "      <td>99.760002</td>\n",
              "      <td>94.573997</td>\n",
              "      <td>96.267998</td>\n",
              "      <td>96.267998</td>\n",
              "      <td>142202000</td>\n",
              "    </tr>\n",
              "    <tr>\n",
              "      <th>4</th>\n",
              "      <td>2020-01-10</td>\n",
              "      <td>96.358002</td>\n",
              "      <td>96.987999</td>\n",
              "      <td>94.739998</td>\n",
              "      <td>95.629997</td>\n",
              "      <td>95.629997</td>\n",
              "      <td>64797500</td>\n",
              "    </tr>\n",
              "  </tbody>\n",
              "</table>\n",
              "</div>\n",
              "      <button class=\"colab-df-convert\" onclick=\"convertToInteractive('df-95ad6a76-3aeb-4502-8594-d54e0f847e8b')\"\n",
              "              title=\"Convert this dataframe to an interactive table.\"\n",
              "              style=\"display:none;\">\n",
              "        \n",
              "  <svg xmlns=\"http://www.w3.org/2000/svg\" height=\"24px\"viewBox=\"0 0 24 24\"\n",
              "       width=\"24px\">\n",
              "    <path d=\"M0 0h24v24H0V0z\" fill=\"none\"/>\n",
              "    <path d=\"M18.56 5.44l.94 2.06.94-2.06 2.06-.94-2.06-.94-.94-2.06-.94 2.06-2.06.94zm-11 1L8.5 8.5l.94-2.06 2.06-.94-2.06-.94L8.5 2.5l-.94 2.06-2.06.94zm10 10l.94 2.06.94-2.06 2.06-.94-2.06-.94-.94-2.06-.94 2.06-2.06.94z\"/><path d=\"M17.41 7.96l-1.37-1.37c-.4-.4-.92-.59-1.43-.59-.52 0-1.04.2-1.43.59L10.3 9.45l-7.72 7.72c-.78.78-.78 2.05 0 2.83L4 21.41c.39.39.9.59 1.41.59.51 0 1.02-.2 1.41-.59l7.78-7.78 2.81-2.81c.8-.78.8-2.07 0-2.86zM5.41 20L4 18.59l7.72-7.72 1.47 1.35L5.41 20z\"/>\n",
              "  </svg>\n",
              "      </button>\n",
              "      \n",
              "  <style>\n",
              "    .colab-df-container {\n",
              "      display:flex;\n",
              "      flex-wrap:wrap;\n",
              "      gap: 12px;\n",
              "    }\n",
              "\n",
              "    .colab-df-convert {\n",
              "      background-color: #E8F0FE;\n",
              "      border: none;\n",
              "      border-radius: 50%;\n",
              "      cursor: pointer;\n",
              "      display: none;\n",
              "      fill: #1967D2;\n",
              "      height: 32px;\n",
              "      padding: 0 0 0 0;\n",
              "      width: 32px;\n",
              "    }\n",
              "\n",
              "    .colab-df-convert:hover {\n",
              "      background-color: #E2EBFA;\n",
              "      box-shadow: 0px 1px 2px rgba(60, 64, 67, 0.3), 0px 1px 3px 1px rgba(60, 64, 67, 0.15);\n",
              "      fill: #174EA6;\n",
              "    }\n",
              "\n",
              "    [theme=dark] .colab-df-convert {\n",
              "      background-color: #3B4455;\n",
              "      fill: #D2E3FC;\n",
              "    }\n",
              "\n",
              "    [theme=dark] .colab-df-convert:hover {\n",
              "      background-color: #434B5C;\n",
              "      box-shadow: 0px 1px 3px 1px rgba(0, 0, 0, 0.15);\n",
              "      filter: drop-shadow(0px 1px 2px rgba(0, 0, 0, 0.3));\n",
              "      fill: #FFFFFF;\n",
              "    }\n",
              "  </style>\n",
              "\n",
              "      <script>\n",
              "        const buttonEl =\n",
              "          document.querySelector('#df-95ad6a76-3aeb-4502-8594-d54e0f847e8b button.colab-df-convert');\n",
              "        buttonEl.style.display =\n",
              "          google.colab.kernel.accessAllowed ? 'block' : 'none';\n",
              "\n",
              "        async function convertToInteractive(key) {\n",
              "          const element = document.querySelector('#df-95ad6a76-3aeb-4502-8594-d54e0f847e8b');\n",
              "          const dataTable =\n",
              "            await google.colab.kernel.invokeFunction('convertToInteractive',\n",
              "                                                     [key], {});\n",
              "          if (!dataTable) return;\n",
              "\n",
              "          const docLinkHtml = 'Like what you see? Visit the ' +\n",
              "            '<a target=\"_blank\" href=https://colab.research.google.com/notebooks/data_table.ipynb>data table notebook</a>'\n",
              "            + ' to learn more about interactive tables.';\n",
              "          element.innerHTML = '';\n",
              "          dataTable['output_type'] = 'display_data';\n",
              "          await google.colab.output.renderOutput(dataTable, element);\n",
              "          const docLink = document.createElement('div');\n",
              "          docLink.innerHTML = docLinkHtml;\n",
              "          element.appendChild(docLink);\n",
              "        }\n",
              "      </script>\n",
              "    </div>\n",
              "  </div>\n",
              "  "
            ],
            "text/plain": [
              "         Date       Open       High        Low      Close  Adj Close  \\\n",
              "0  2020-01-06  88.094002  90.311996  88.000000  90.307999  90.307999   \n",
              "1  2020-01-07  92.279999  94.325996  90.671997  93.811996  93.811996   \n",
              "2  2020-01-08  94.739998  99.697998  93.646004  98.428001  98.428001   \n",
              "3  2020-01-09  99.419998  99.760002  94.573997  96.267998  96.267998   \n",
              "4  2020-01-10  96.358002  96.987999  94.739998  95.629997  95.629997   \n",
              "\n",
              "      Volume  \n",
              "0   50665000  \n",
              "1   89410500  \n",
              "2  155721500  \n",
              "3  142202000  \n",
              "4   64797500  "
            ]
          },
          "metadata": {},
          "execution_count": 66
        }
      ]
    },
    {
      "cell_type": "code",
      "source": [
        "# We are using Price as the feature\n",
        "\n",
        "real_stock_price = test_df.iloc[:, 1:2].values\n",
        "print(real_stock_price)"
      ],
      "metadata": {
        "colab": {
          "base_uri": "https://localhost:8080/"
        },
        "id": "rvXBI8OjabtV",
        "outputId": "2dcee10f-f745-490c-8777-2145e4066ab2"
      },
      "execution_count": 67,
      "outputs": [
        {
          "output_type": "stream",
          "name": "stdout",
          "text": [
            "[[ 88.094002]\n",
            " [ 92.279999]\n",
            " [ 94.739998]\n",
            " [ 99.419998]\n",
            " [ 96.358002]\n",
            " [ 98.699997]\n",
            " [108.851997]\n",
            " [105.952003]\n",
            " [ 98.75    ]\n",
            " [101.522003]\n",
            " [106.050003]\n",
            " [114.377998]\n",
            " [112.849998]\n",
            " [114.125999]\n",
            " [108.398003]\n",
            " [113.697998]\n",
            " [115.138   ]\n",
            " [126.484001]\n",
            " [128.      ]\n",
            " [134.738007]\n",
            " [176.591995]\n",
            " [164.651993]\n",
            " [139.983994]\n",
            " [146.110001]\n",
            " [160.      ]\n",
            " [153.757996]\n",
            " [155.574005]\n",
            " [148.367996]\n",
            " [157.444   ]\n",
            " [168.320007]\n",
            " [184.699997]\n",
            " [182.389999]\n",
            " [181.395996]\n",
            " [167.800003]\n",
            " [169.800003]\n",
            " [156.5     ]\n",
            " [146.      ]\n",
            " [125.940002]\n",
            " [142.251999]\n",
            " [161.      ]\n",
            " [152.792007]\n",
            " [144.753998]\n",
            " [138.      ]\n",
            " [121.078003]\n",
            " [131.886002]\n",
            " [128.039993]\n",
            " [116.178001]\n",
            " [119.      ]\n",
            " [ 93.900002]\n",
            " [ 88.001999]\n",
            " [ 77.800003]\n",
            " [ 74.940002]\n",
            " [ 87.639999]\n",
            " [ 86.720001]\n",
            " [ 95.459999]\n",
            " [109.050003]\n",
            " [109.477997]\n",
            " [101.      ]\n",
            " [102.052002]\n",
            " [100.25    ]\n",
            " [100.800003]\n",
            " [ 96.206001]\n",
            " [101.900002]\n",
            " [102.239998]\n",
            " [109.      ]\n",
            " [110.839996]\n",
            " [112.417999]\n",
            " [118.031998]\n",
            " [139.794006]\n",
            " [148.399994]\n",
            " [143.388   ]\n",
            " [154.455994]\n",
            " [146.539993]\n",
            " [146.024002]\n",
            " [140.796005]\n",
            " [145.520004]\n",
            " [142.162003]\n",
            " [147.522003]\n",
            " [159.128006]\n",
            " [158.033997]\n",
            " [171.037994]\n",
            " [151.      ]\n",
            " [140.199997]\n",
            " [157.957993]\n",
            " [155.300003]\n",
            " [155.442001]\n",
            " [158.753998]\n",
            " [158.102005]\n",
            " [165.399994]\n",
            " [164.166   ]\n",
            " [156.      ]\n",
            " [158.070007]\n",
            " [165.556   ]\n",
            " [163.033997]\n",
            " [164.100006]\n",
            " [163.199997]\n",
            " [164.434006]\n",
            " [166.899994]\n",
            " [164.171997]\n",
            " [162.701996]\n",
            " [161.75    ]\n",
            " [171.600006]\n",
            " [178.940002]\n",
            " [177.623993]\n",
            " [177.975998]\n",
            " [175.567993]\n",
            " [183.800003]\n",
            " [188.001999]\n",
            " [198.376007]\n",
            " [198.039993]\n",
            " [196.      ]\n",
            " [183.557999]\n",
            " [202.369995]\n",
            " [197.542007]\n",
            " [200.600006]\n",
            " [202.556   ]\n",
            " [199.990005]\n",
            " [199.776001]\n",
            " [198.822006]\n",
            " [190.854004]\n",
            " [198.955994]\n",
            " [193.802002]\n",
            " [201.300003]\n",
            " [216.600006]\n",
            " [244.296005]\n",
            " [255.337997]\n",
            " [281.002014]\n",
            " [281.      ]\n",
            " [279.39801 ]\n",
            " [279.200012]\n",
            " [331.799988]\n",
            " [311.200012]\n",
            " [308.600006]\n",
            " [295.432007]\n",
            " [302.690002]\n",
            " [303.802002]\n",
            " [327.985992]\n",
            " [319.799988]\n",
            " [335.790009]\n",
            " [283.201996]\n",
            " [287.      ]\n",
            " [300.799988]\n",
            " [300.200012]\n",
            " [297.600006]\n",
            " [303.      ]\n",
            " [289.839996]\n",
            " [299.002014]\n",
            " [298.597992]\n",
            " [298.165985]\n",
            " [299.90799 ]\n",
            " [289.600006]\n",
            " [279.200012]\n",
            " [294.      ]\n",
            " [322.200012]\n",
            " [332.997986]\n",
            " [335.399994]\n",
            " [379.798004]\n",
            " [373.      ]\n",
            " [372.135986]\n",
            " [408.951996]\n",
            " [425.256012]\n",
            " [394.977997]\n",
            " [412.      ]\n",
            " [436.09201 ]\n",
            " [459.023987]\n",
            " [444.609985]\n",
            " [502.140015]\n",
            " [478.98999 ]\n",
            " [407.230011]\n",
            " [402.809998]\n",
            " [356.      ]\n",
            " [356.600006]\n",
            " [386.209991]\n",
            " [381.940002]\n",
            " [380.950012]\n",
            " [436.559998]\n",
            " [439.869995]\n",
            " [415.600006]\n",
            " [447.940002]\n",
            " [453.130005]\n",
            " [429.600006]\n",
            " [405.160004]\n",
            " [363.799988]\n",
            " [393.470001]\n",
            " [424.619995]\n",
            " [416.      ]\n",
            " [421.320007]\n",
            " [440.76001 ]\n",
            " [421.390015]\n",
            " [423.350006]\n",
            " [423.790009]\n",
            " [419.869995]\n",
            " [438.440002]\n",
            " [430.130005]\n",
            " [442.      ]\n",
            " [443.350006]\n",
            " [449.779999]\n",
            " [450.309998]\n",
            " [454.440002]\n",
            " [446.23999 ]\n",
            " [431.75    ]\n",
            " [422.700012]\n",
            " [441.920013]\n",
            " [421.839996]\n",
            " [411.630005]\n",
            " [423.76001 ]\n",
            " [416.480011]\n",
            " [409.959991]\n",
            " [406.899994]\n",
            " [394.      ]\n",
            " [409.730011]\n",
            " [430.619995]]\n"
          ]
        }
      ]
    },
    {
      "cell_type": "code",
      "source": [
        "real_stock_price.shape"
      ],
      "metadata": {
        "colab": {
          "base_uri": "https://localhost:8080/"
        },
        "id": "cBu-998mC0Sn",
        "outputId": "4313716c-4473-4593-c06f-45e99194a4b7"
      },
      "execution_count": 68,
      "outputs": [
        {
          "output_type": "execute_result",
          "data": {
            "text/plain": [
              "(212, 1)"
            ]
          },
          "metadata": {},
          "execution_count": 68
        }
      ]
    },
    {
      "cell_type": "code",
      "source": [
        "real_stock_price.mean()"
      ],
      "metadata": {
        "colab": {
          "base_uri": "https://localhost:8080/"
        },
        "id": "JwJx1z7FauF3",
        "outputId": "9da16d27-1854-415c-ec24-8251899fc4a6"
      },
      "execution_count": 69,
      "outputs": [
        {
          "output_type": "execute_result",
          "data": {
            "text/plain": [
              "240.69449118396224"
            ]
          },
          "metadata": {},
          "execution_count": 69
        }
      ]
    },
    {
      "cell_type": "code",
      "source": [
        "# We need to concatenate the train and test datasets for prediction, \n",
        "# because we use the previous 60 days' stock prices to predict the next-day price. \n",
        "# i.e. we need the 60 days' price before the 1st date in the test dataset.\n",
        "# ---\n",
        "#\n",
        "dataset_total = pd.concat((train_df['Open'],\n",
        "                           test_df['Open']), axis=0)\n",
        "\n",
        "# We create the input for prediction, index starting from the \n",
        "# date 60 days before the first date in the test dataset.\n",
        "# ---\n",
        "#\n",
        "inputs = dataset_total[len(dataset_total)-len(test_df)-60:].values\n",
        "\n",
        "# Reshaping the inputs to have only 1 column\n",
        "# ---\n",
        "#\n",
        "inputs = inputs.reshape(-1, 1)\n",
        "\n",
        "\n",
        "# Using the scale set by the training set to scale the test inputs\n",
        "# ---\n",
        "#\n",
        "inputs = sc.transform(inputs)\n",
        "\n",
        "# Then creating the test data structure just as we did for the train dataset\n",
        "# ---\n",
        "#\n",
        "X_test = []\n",
        "for i in range(60, 80):\n",
        "    X_test.append(inputs[i-60:i, 0])\n",
        "X_test = np.array(X_test)\n",
        "X_test = np.reshape(X_test, (X_test.shape[0],\n",
        "                    X_test.shape[1], 1))"
      ],
      "metadata": {
        "id": "uQvazhXtcB3O"
      },
      "execution_count": 70,
      "outputs": []
    },
    {
      "cell_type": "code",
      "source": [
        "inputs = dataset_total[len(dataset_total)-len(test_df)-60:].values\n",
        "inputs.shape"
      ],
      "metadata": {
        "colab": {
          "base_uri": "https://localhost:8080/"
        },
        "id": "1Xkugn2UcNZC",
        "outputId": "5c635bd7-ee76-4194-ef8f-280fc13eab45"
      },
      "execution_count": 71,
      "outputs": [
        {
          "output_type": "execute_result",
          "data": {
            "text/plain": [
              "(272,)"
            ]
          },
          "metadata": {},
          "execution_count": 71
        }
      ]
    },
    {
      "cell_type": "code",
      "source": [
        "# Making our Predictions\n",
        "predicted_stock_price = regressor.predict(X_test)"
      ],
      "metadata": {
        "id": "-I5yvazhcYQ9"
      },
      "execution_count": 72,
      "outputs": []
    },
    {
      "cell_type": "code",
      "source": [
        "# Since we have predicted the scaled values, we reverse those values\n",
        "# ---\n",
        "#\n",
        "predicted_stock_price = sc.inverse_transform(predicted_stock_price)\n",
        "print(predicted_stock_price)"
      ],
      "metadata": {
        "colab": {
          "base_uri": "https://localhost:8080/"
        },
        "id": "ZiuzKL_nh42o",
        "outputId": "7602981a-484d-48e2-b6d1-b20a53f4c1a5"
      },
      "execution_count": 73,
      "outputs": [
        {
          "output_type": "stream",
          "name": "stdout",
          "text": [
            "[[ 43.89982 ]\n",
            " [ 55.48506 ]\n",
            " [ 75.79753 ]\n",
            " [ 88.68917 ]\n",
            " [ 91.15714 ]\n",
            " [ 86.85456 ]\n",
            " [ 84.94131 ]\n",
            " [ 89.60827 ]\n",
            " [ 90.55846 ]\n",
            " [ 86.51317 ]\n",
            " [ 86.309784]\n",
            " [ 89.18681 ]\n",
            " [ 95.166016]\n",
            " [ 96.12695 ]\n",
            " [ 95.97765 ]\n",
            " [ 91.983864]\n",
            " [ 93.55934 ]\n",
            " [ 95.15913 ]\n",
            " [101.840744]\n",
            " [104.06291 ]]\n"
          ]
        }
      ]
    },
    {
      "cell_type": "code",
      "source": [
        "predicted_stock_price.shape"
      ],
      "metadata": {
        "colab": {
          "base_uri": "https://localhost:8080/"
        },
        "id": "y3E8onELNdCB",
        "outputId": "383b4cdd-1b82-4e8c-8e0d-1e09ec13cf60"
      },
      "execution_count": 74,
      "outputs": [
        {
          "output_type": "execute_result",
          "data": {
            "text/plain": [
              "(20, 1)"
            ]
          },
          "metadata": {},
          "execution_count": 74
        }
      ]
    },
    {
      "cell_type": "code",
      "source": [
        "real_stock_price.shape"
      ],
      "metadata": {
        "colab": {
          "base_uri": "https://localhost:8080/"
        },
        "id": "6iOgRhMVNie-",
        "outputId": "18daa8ce-ebd6-44b1-c5f4-8c4862b2c17e"
      },
      "execution_count": 75,
      "outputs": [
        {
          "output_type": "execute_result",
          "data": {
            "text/plain": [
              "(212, 1)"
            ]
          },
          "metadata": {},
          "execution_count": 75
        }
      ]
    },
    {
      "cell_type": "code",
      "metadata": {
        "id": "DdqVPzPO-7Ca",
        "colab": {
          "base_uri": "https://localhost:8080/",
          "height": 294
        },
        "outputId": "9a008709-b9b9-4146-f7d2-86ddaadb7324"
      },
      "source": [
        "# Visualizing the result\n",
        "# ---\n",
        "plt.plot(real_stock_price, color='red', label='Tesla Stock Price')\n",
        "plt.plot(predicted_stock_price, color='blue',\n",
        "         label='Predicted Tesla e Stock Price')\n",
        "plt.title('Tesla Price Prediction by TDP')\n",
        "plt.xlabel('Time')\n",
        "plt.ylabel('Tesla Stock Price')\n",
        "plt.legend()\n",
        "plt.show()"
      ],
      "execution_count": 76,
      "outputs": [
        {
          "output_type": "display_data",
          "data": {
            "image/png": "[encoded data removed]",
            "text/plain": [
              "<Figure size 432x288 with 1 Axes>"
            ]
          },
          "metadata": {
            "needs_background": "light"
          }
        }
      ]
    },
    {
      "cell_type": "code",
      "metadata": {
        "id": "DawtOvbkdRHl"
      },
      "source": [
        "# Model Evaluation\n",
        "import math\n",
        "from sklearn.metrics import mean_squared_error\n",
        "rmse = math.sqrt(mean_squared_error(real_stock_price, predicted_stock_price))\n",
        "print(rmse)"
      ],
      "execution_count": null,
      "outputs": []
    },
    {
      "cell_type": "markdown",
      "metadata": {
        "id": "cnkCNAuEHlzG"
      },
      "source": [
        "## <font color='#2F4F4F'>Step 6. Summary of Findings and Recommendation</font>"
      ]
    },
    {
      "cell_type": "markdown",
      "metadata": {
        "id": "ZA2cp-dIMgki"
      },
      "source": [
        "Your observation goes here..."
      ]
    },
    {
      "cell_type": "markdown",
      "metadata": {
        "id": "y5_spjYaHoyw"
      },
      "source": [
        "## <font color='#2F4F4F'>Step 7. Challenging our Solution</font>"
      ]
    },
    {
      "cell_type": "markdown",
      "metadata": {
        "id": "i5BnrlDxU5uG"
      },
      "source": [
        "#### a) Did we have the right question? Yes\n",
        "\n",
        "\n",
        "#### b) Did we have the right data? Yes\n",
        "\n",
        "\n",
        "#### c) What can be done to improve the solution?\n",
        "\n",
        "Getting more training data\n",
        "Increasing the timesteps\n",
        "Adding some other indicators\n",
        "Adding more LSTM layers\n",
        "Adding more neurons in the LSTM layers\n"
      ]
    }
  ]
}